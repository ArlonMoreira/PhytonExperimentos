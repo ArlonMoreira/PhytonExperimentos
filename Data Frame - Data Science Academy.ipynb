{
 "cells": [
  {
   "cell_type": "code",
   "execution_count": 1,
   "metadata": {
    "collapsed": true
   },
   "outputs": [],
   "source": [
    "#Um Data Frame trata-se de uma coleção, composta por Índices, Colunas e Valores."
   ]
  },
  {
   "cell_type": "code",
   "execution_count": 2,
   "metadata": {
    "collapsed": true
   },
   "outputs": [],
   "source": [
    "#Criando um DataFrame a partir de um dataset (dicionário de dados)"
   ]
  },
  {
   "cell_type": "code",
   "execution_count": 42,
   "metadata": {
    "collapsed": false
   },
   "outputs": [
    {
     "name": "stdout",
     "output_type": "stream",
     "text": [
      "float64\n",
      "float\n"
     ]
    },
    {
     "data": {
      "text/plain": [
       "array([['Arlon', 23, 1.73, 70],\n",
       "       ['Jean', 21, 1.76, 71],\n",
       "       ['Fernando', 26, 1.7, 72]], dtype=object)"
      ]
     },
     "execution_count": 42,
     "metadata": {},
     "output_type": "execute_result"
    }
   ],
   "source": [
    "from pandas import DataFrame\n",
    "import numpy as np\n",
    "import re\n",
    "\n",
    "Primos = {'Nomes': ['Arlon','Jean','Fernando'],\n",
    "          'Idade': [23,21,26],\n",
    "          'Altura':[1.73,1.76,1.70]}\n",
    "\n",
    "indice = [np.arange(1, DFPrimos.shape[0]+1)] #criando um lista de índices\n",
    "\n",
    "DFPrimos = DataFrame(Primos, columns= ['Nomes', \n",
    "                                       'Idade', \n",
    "                                       'Altura', \n",
    "                                       'Peso'], index= indice) #criando um data frame\n",
    "\n",
    "\n",
    "DFPrimos['Nomes'] #Imprimindo uma coluna em específico\n",
    "\n",
    "DFPrimos['Peso'] = np.arange(70, 73, 1) #Atribuindo valores a coluna 'Peso'\n",
    "\n",
    "DFPrimos.describe() #Descrição dos valores\n",
    "\n",
    "print(DFPrimos.dtypes['Altura']) #Imprimindo os tipos de ados\n",
    "\n",
    "print(re.findall('\\\\D+', str(DFPrimos.dtypes['Altura']))[0])\n",
    "\n",
    "DFPrimos.index #Imprimindo os índices\n",
    "\n",
    "DFPrimos.columns #Imprimindo as colunas\n",
    "\n",
    "DFPrimos.values #Imprimindo os valores"
   ]
  },
  {
   "cell_type": "code",
   "execution_count": null,
   "metadata": {
    "collapsed": true
   },
   "outputs": [],
   "source": []
  }
 ],
 "metadata": {
  "kernelspec": {
   "display_name": "Python 3",
   "language": "python",
   "name": "python3"
  },
  "language_info": {
   "codemirror_mode": {
    "name": "ipython",
    "version": 3
   },
   "file_extension": ".py",
   "mimetype": "text/x-python",
   "name": "python",
   "nbconvert_exporter": "python",
   "pygments_lexer": "ipython3",
   "version": "3.6.0"
  }
 },
 "nbformat": 4,
 "nbformat_minor": 2
}
